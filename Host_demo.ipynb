{
  "cells": [
    {
      "cell_type": "markdown",
      "metadata": {
        "id": "view-in-github",
        "colab_type": "text"
      },
      "source": [
        "<a href=\"https://colab.research.google.com/github/Alindaive/Aalzheimer_detection/blob/main/Host_demo.ipynb\" target=\"_parent\"><img src=\"https://colab.research.google.com/assets/colab-badge.svg\" alt=\"Open In Colab\"/></a>"
      ]
    },
    {
      "cell_type": "code",
      "execution_count": 1,
      "metadata": {
        "id": "RDwpEO33ghlp",
        "colab": {
          "base_uri": "https://localhost:8080/"
        },
        "outputId": "20656859-38c8-4cef-fd1e-7013d1fafa91"
      },
      "outputs": [
        {
          "output_type": "stream",
          "name": "stdout",
          "text": [
            "\u001b[K     |████████████████████████████████| 10.3 MB 8.8 MB/s \n",
            "\u001b[K     |████████████████████████████████| 237 kB 56.8 MB/s \n",
            "\u001b[K     |████████████████████████████████| 78 kB 7.6 MB/s \n",
            "\u001b[K     |████████████████████████████████| 4.7 MB 45.2 MB/s \n",
            "\u001b[K     |████████████████████████████████| 164 kB 51.9 MB/s \n",
            "\u001b[K     |████████████████████████████████| 182 kB 44.0 MB/s \n",
            "\u001b[K     |████████████████████████████████| 63 kB 1.7 MB/s \n",
            "\u001b[K     |████████████████████████████████| 51 kB 7.7 MB/s \n",
            "\u001b[?25h  Building wheel for validators (setup.py) ... \u001b[?25l\u001b[?25hdone\n"
          ]
        }
      ],
      "source": [
        "!pip install -q streamlit"
      ]
    },
    {
      "cell_type": "code",
      "execution_count": 2,
      "metadata": {
        "id": "7h6Zmz0wgmPt",
        "colab": {
          "base_uri": "https://localhost:8080/"
        },
        "outputId": "8bce1f70-da5d-45ed-b80e-2f8ea4c3c7bc"
      },
      "outputs": [
        {
          "output_type": "stream",
          "name": "stdout",
          "text": [
            "\u001b[?25l\r\u001b[K     |▍                               | 10 kB 22.4 MB/s eta 0:00:01\r\u001b[K     |▉                               | 20 kB 19.7 MB/s eta 0:00:01\r\u001b[K     |█▎                              | 30 kB 25.8 MB/s eta 0:00:01\r\u001b[K     |█▊                              | 40 kB 7.9 MB/s eta 0:00:01\r\u001b[K     |██▏                             | 51 kB 6.2 MB/s eta 0:00:01\r\u001b[K     |██▋                             | 61 kB 7.2 MB/s eta 0:00:01\r\u001b[K     |███                             | 71 kB 7.8 MB/s eta 0:00:01\r\u001b[K     |███▌                            | 81 kB 6.5 MB/s eta 0:00:01\r\u001b[K     |████                            | 92 kB 7.2 MB/s eta 0:00:01\r\u001b[K     |████▍                           | 102 kB 6.6 MB/s eta 0:00:01\r\u001b[K     |████▉                           | 112 kB 6.6 MB/s eta 0:00:01\r\u001b[K     |█████▎                          | 122 kB 6.6 MB/s eta 0:00:01\r\u001b[K     |█████▊                          | 133 kB 6.6 MB/s eta 0:00:01\r\u001b[K     |██████▏                         | 143 kB 6.6 MB/s eta 0:00:01\r\u001b[K     |██████▋                         | 153 kB 6.6 MB/s eta 0:00:01\r\u001b[K     |███████                         | 163 kB 6.6 MB/s eta 0:00:01\r\u001b[K     |███████▌                        | 174 kB 6.6 MB/s eta 0:00:01\r\u001b[K     |████████                        | 184 kB 6.6 MB/s eta 0:00:01\r\u001b[K     |████████▍                       | 194 kB 6.6 MB/s eta 0:00:01\r\u001b[K     |████████▉                       | 204 kB 6.6 MB/s eta 0:00:01\r\u001b[K     |█████████▎                      | 215 kB 6.6 MB/s eta 0:00:01\r\u001b[K     |█████████▊                      | 225 kB 6.6 MB/s eta 0:00:01\r\u001b[K     |██████████▏                     | 235 kB 6.6 MB/s eta 0:00:01\r\u001b[K     |██████████▌                     | 245 kB 6.6 MB/s eta 0:00:01\r\u001b[K     |███████████                     | 256 kB 6.6 MB/s eta 0:00:01\r\u001b[K     |███████████▍                    | 266 kB 6.6 MB/s eta 0:00:01\r\u001b[K     |███████████▉                    | 276 kB 6.6 MB/s eta 0:00:01\r\u001b[K     |████████████▎                   | 286 kB 6.6 MB/s eta 0:00:01\r\u001b[K     |████████████▊                   | 296 kB 6.6 MB/s eta 0:00:01\r\u001b[K     |█████████████▏                  | 307 kB 6.6 MB/s eta 0:00:01\r\u001b[K     |█████████████▋                  | 317 kB 6.6 MB/s eta 0:00:01\r\u001b[K     |██████████████                  | 327 kB 6.6 MB/s eta 0:00:01\r\u001b[K     |██████████████▌                 | 337 kB 6.6 MB/s eta 0:00:01\r\u001b[K     |███████████████                 | 348 kB 6.6 MB/s eta 0:00:01\r\u001b[K     |███████████████▍                | 358 kB 6.6 MB/s eta 0:00:01\r\u001b[K     |███████████████▉                | 368 kB 6.6 MB/s eta 0:00:01\r\u001b[K     |████████████████▎               | 378 kB 6.6 MB/s eta 0:00:01\r\u001b[K     |████████████████▊               | 389 kB 6.6 MB/s eta 0:00:01\r\u001b[K     |█████████████████▏              | 399 kB 6.6 MB/s eta 0:00:01\r\u001b[K     |█████████████████▋              | 409 kB 6.6 MB/s eta 0:00:01\r\u001b[K     |██████████████████              | 419 kB 6.6 MB/s eta 0:00:01\r\u001b[K     |██████████████████▌             | 430 kB 6.6 MB/s eta 0:00:01\r\u001b[K     |███████████████████             | 440 kB 6.6 MB/s eta 0:00:01\r\u001b[K     |███████████████████▍            | 450 kB 6.6 MB/s eta 0:00:01\r\u001b[K     |███████████████████▉            | 460 kB 6.6 MB/s eta 0:00:01\r\u001b[K     |████████████████████▎           | 471 kB 6.6 MB/s eta 0:00:01\r\u001b[K     |████████████████████▋           | 481 kB 6.6 MB/s eta 0:00:01\r\u001b[K     |█████████████████████           | 491 kB 6.6 MB/s eta 0:00:01\r\u001b[K     |█████████████████████▌          | 501 kB 6.6 MB/s eta 0:00:01\r\u001b[K     |██████████████████████          | 512 kB 6.6 MB/s eta 0:00:01\r\u001b[K     |██████████████████████▍         | 522 kB 6.6 MB/s eta 0:00:01\r\u001b[K     |██████████████████████▉         | 532 kB 6.6 MB/s eta 0:00:01\r\u001b[K     |███████████████████████▎        | 542 kB 6.6 MB/s eta 0:00:01\r\u001b[K     |███████████████████████▊        | 552 kB 6.6 MB/s eta 0:00:01\r\u001b[K     |████████████████████████▏       | 563 kB 6.6 MB/s eta 0:00:01\r\u001b[K     |████████████████████████▋       | 573 kB 6.6 MB/s eta 0:00:01\r\u001b[K     |█████████████████████████       | 583 kB 6.6 MB/s eta 0:00:01\r\u001b[K     |█████████████████████████▌      | 593 kB 6.6 MB/s eta 0:00:01\r\u001b[K     |██████████████████████████      | 604 kB 6.6 MB/s eta 0:00:01\r\u001b[K     |██████████████████████████▍     | 614 kB 6.6 MB/s eta 0:00:01\r\u001b[K     |██████████████████████████▉     | 624 kB 6.6 MB/s eta 0:00:01\r\u001b[K     |███████████████████████████▎    | 634 kB 6.6 MB/s eta 0:00:01\r\u001b[K     |███████████████████████████▊    | 645 kB 6.6 MB/s eta 0:00:01\r\u001b[K     |████████████████████████████▏   | 655 kB 6.6 MB/s eta 0:00:01\r\u001b[K     |████████████████████████████▋   | 665 kB 6.6 MB/s eta 0:00:01\r\u001b[K     |█████████████████████████████   | 675 kB 6.6 MB/s eta 0:00:01\r\u001b[K     |█████████████████████████████▌  | 686 kB 6.6 MB/s eta 0:00:01\r\u001b[K     |██████████████████████████████  | 696 kB 6.6 MB/s eta 0:00:01\r\u001b[K     |██████████████████████████████▍ | 706 kB 6.6 MB/s eta 0:00:01\r\u001b[K     |██████████████████████████████▊ | 716 kB 6.6 MB/s eta 0:00:01\r\u001b[K     |███████████████████████████████▏| 727 kB 6.6 MB/s eta 0:00:01\r\u001b[K     |███████████████████████████████▋| 737 kB 6.6 MB/s eta 0:00:01\r\u001b[K     |████████████████████████████████| 745 kB 6.6 MB/s \n",
            "\u001b[?25h  Building wheel for pyngrok (setup.py) ... \u001b[?25l\u001b[?25hdone\n"
          ]
        }
      ],
      "source": [
        "!pip install -q pyngrok"
      ]
    },
    {
      "cell_type": "code",
      "execution_count": 3,
      "metadata": {
        "colab": {
          "base_uri": "https://localhost:8080/"
        },
        "id": "tHC-H5NZ2zpr",
        "outputId": "97338cc8-7fb8-429c-a317-4a9f44461baf"
      },
      "outputs": [
        {
          "output_type": "stream",
          "name": "stdout",
          "text": [
            "Mounted at /content/gdrive\n"
          ]
        }
      ],
      "source": [
        "from google.colab import drive\n",
        "drive.mount('/content/gdrive')"
      ]
    },
    {
      "cell_type": "code",
      "execution_count": 4,
      "metadata": {
        "id": "cSr6KbwhjI0u"
      },
      "outputs": [],
      "source": [
        "!cp '/content/gdrive/MyDrive/MyModel_h5'  '/content/'\n",
        "!cp '/content/gdrive/MyDrive/model_classes.txt'  '/content/'"
      ]
    },
    {
      "cell_type": "code",
      "source": [
        "!cp '/content/gdrive/MyDrive/Alzheimer_app.py'  '/content/'"
      ],
      "metadata": {
        "id": "XXdxhST4PIyb"
      },
      "execution_count": null,
      "outputs": []
    },
    {
      "cell_type": "code",
      "execution_count": 13,
      "metadata": {
        "colab": {
          "base_uri": "https://localhost:8080/"
        },
        "id": "HuHJ9rNtgtAi",
        "outputId": "85a2d858-f6e0-4717-82b9-79cc2ed7767d"
      },
      "outputs": [
        {
          "output_type": "stream",
          "name": "stdout",
          "text": [
            "Writing Alzheimer_app.py\n"
          ]
        }
      ],
      "source": [
        "%%writefile Alzheimer_app.py\n",
        "import streamlit as st\n",
        "from keras.models import load_model\n",
        "import tensorflow as tf\n",
        "import io\n",
        "import os\n",
        "import cv2\n",
        "import numpy as np\n",
        "from torchvision import transforms\n",
        "from PIL import Image\n",
        "\n",
        "\n",
        "\n",
        "#MODEL_PATH = \"model//Alzheimer_Cassifier.pkl\"\n",
        "MODEL_PATH = 'MyModel_h5'\n",
        "#LABELS_PATH = \"model//model_classes.txt\"\n",
        "LABELS_PATH = 'model_classes.txt'\n",
        "\n",
        "\n",
        "#ส่วนอัพโหลดรูป\n",
        "def load_image():\n",
        "    uploaded_file = st.file_uploader(label='Pick an MRI image to predict', type=[\"png\", \"jpg\", \"jpeg\"])\n",
        "    if uploaded_file is not None:\n",
        "        image_data = uploaded_file.getvalue()\n",
        "        st.image(image_data)\n",
        "        image = Image.open(uploaded_file)\n",
        "        img   = np.array(image)\n",
        "        #img = cv2.imread(img)\n",
        "        img = cv2.resize(img,(224,224))\n",
        "        img = np.reshape(img,[1,224,224,3])\n",
        "        image = img\n",
        "        return image\n",
        "        #return Image.open(io.BytesIO(image_data))\n",
        "    else:\n",
        "        return None\n",
        "\n",
        "        \n",
        "        \n",
        "#ส่วนเรียกใช้โมเดล\n",
        "def load_model(model_path):\n",
        "    #model =\"ff\"\n",
        "    #model = pickle.load(open(model_path, 'rb'))\n",
        "    #model = joblib.load(model_path)\n",
        "    #model = joblib.load(open(os.path.join(MODEL_PATH),\"rb\"))\n",
        "    #return model\n",
        "    #model = tf.keras.models.load_model(model_path)\n",
        "    model = tf.keras.models.load_model(MODEL_PATH)\n",
        "    #model = torch.load(model_path, map_location='cpu')\n",
        "    #model.eval()\n",
        "    #model.fit(0.1,0.8)\n",
        "    #result = model.scroe()\n",
        "    #loss, acc_h5 = loaded_model_h5.evaluate(x_test, y_test, verbose=1)\n",
        "    return model\n",
        "\n",
        "\n",
        "#ส่วนเรียกไฟล์ที่เก็บคลาส\n",
        "def load_labels(labels_file):\n",
        "    with open(labels_file, \"r\") as f:\n",
        "        categories = [s.strip() for s in f.readlines()]\n",
        "        return categories\n",
        "\n",
        "\n",
        "def predict(model, categories, image):\n",
        "    model.compile(loss = 'categorical_crossentropy', optimizer = tf.keras.optimizers.Adam(), metrics = ['accuracy'])\n",
        "    #img = cv2.imread(\"5.jpg\")\n",
        "    #img = cv2.resize(img,(224,224))\n",
        "    #img = np.reshape(img,[1,2)24,224,3]\n",
        "\n",
        "    classes = model.predict(image)\n",
        "    if classes[0][0] == 1 :\n",
        "        st.subheader('MildDemented - พบภาวะสมองเสื่อมระดับอ่อน!!')\n",
        "    if classes[0][1] == 1 :\n",
        "        st.subheader('ModerateDemented - พบภาวะสมองเสื่อมระดับปานกลาง!!')\n",
        "    if classes[0][2] == 1 :\n",
        "        st.subheader('NonDemented - ไม่พบภาวะสมองเสื่อม')\n",
        "    if classes[0][3] == 1 :\n",
        "        st.subheader('VeryMildDemented - พบภาวะสมองเสื่อมระดับรุนแรง!!')\n",
        "    return 1\n",
        "\n",
        "def main():\n",
        "    st.title(\"Aalzheimer's disease detection(MRI)🧠\")\n",
        "    st.write('Alzheimer Classification with MRI Image ')\n",
        "    st.write('A Part Of Machine Learning 1/2022 by Alinda')\n",
        "    model = load_model(MODEL_PATH)\n",
        "    categories = load_labels(LABELS_PATH)\n",
        "    image = load_image()\n",
        "    result = st.button('Run on image')\n",
        "    if result:\n",
        "        st.write('Calculating results...')\n",
        "        #st.write(categories)\n",
        "        predict(model, categories, image)\n",
        "\n",
        "\n",
        "if __name__ == '__main__':\n",
        "    main()\n"
      ]
    },
    {
      "cell_type": "code",
      "source": [
        "ngrok.kill()"
      ],
      "metadata": {
        "id": "0Wrj9Bs4GyHz"
      },
      "execution_count": 16,
      "outputs": []
    },
    {
      "cell_type": "code",
      "execution_count": 17,
      "metadata": {
        "colab": {
          "base_uri": "https://localhost:8080/"
        },
        "id": "hhAgq_RDg3L2",
        "outputId": "7d084f99-402a-4137-f05a-6101a4df1eb3"
      },
      "outputs": [
        {
          "output_type": "execute_result",
          "data": {
            "text/plain": [
              "<NgrokTunnel: \"http://baa9-34-125-100-244.ngrok.io\" -> \"http://localhost:80\">"
            ]
          },
          "metadata": {},
          "execution_count": 17
        }
      ],
      "source": [
        "from pyngrok import ngrok\n",
        "# เข้าเว็บไซต์ ngrok.com > สมัครสมาชิก > copy \"auth_token\" มาใส่แทนที่\n",
        "ngrok.set_auth_token(\"2HuRGceENAffc7CcLuj1SRGjoJB_Jn1xpfobTH6VdGbo9yeG\")\n",
        "# Setup a tunnel to the strea2HgfAP9l7mlit port 8501\n",
        "public_url = ngrok.connect(port=\"8501\", proto=\"http\", options={\"bind_tls\": True})\n",
        "public_url"
      ]
    },
    {
      "cell_type": "code",
      "execution_count": 18,
      "metadata": {
        "colab": {
          "base_uri": "https://localhost:8080/"
        },
        "id": "oJPK29cGl9gQ",
        "outputId": "129ff23f-9a87-4b03-f9be-5cf139dfd1fb"
      },
      "outputs": [
        {
          "output_type": "stream",
          "name": "stdout",
          "text": [
            "\n",
            "Collecting usage statistics. To deactivate, set browser.gatherUsageStats to False.\n",
            "\u001b[0m\n",
            "\u001b[0m\n",
            "\u001b[34m\u001b[1m  You can now view your Streamlit app in your browser.\u001b[0m\n",
            "\u001b[0m\n",
            "\u001b[34m  Network URL: \u001b[0m\u001b[1mhttp://172.28.0.2:80\u001b[0m\n",
            "\u001b[34m  External URL: \u001b[0m\u001b[1mhttp://34.125.100.244:80\u001b[0m\n",
            "\u001b[0m\n",
            "2022-11-22 16:45:22.075576: E tensorflow/stream_executor/cuda/cuda_driver.cc:271] failed call to cuInit: CUDA_ERROR_NO_DEVICE: no CUDA-capable device is detected\n",
            "1/1 [==============================] - 0s 342ms/step\n",
            "1/1 [==============================] - 0s 92ms/step\n",
            "1/1 [==============================] - 0s 91ms/step\n",
            "\u001b[34m  Stopping...\u001b[0m\n"
          ]
        }
      ],
      "source": [
        "!streamlit run --server.port 80 /content/Alzheimer_app.py & >/dev/null &"
      ]
    }
  ],
  "metadata": {
    "colab": {
      "provenance": [],
      "include_colab_link": true
    },
    "kernelspec": {
      "display_name": "Python 3",
      "name": "python3"
    },
    "language_info": {
      "name": "python"
    }
  },
  "nbformat": 4,
  "nbformat_minor": 0
}